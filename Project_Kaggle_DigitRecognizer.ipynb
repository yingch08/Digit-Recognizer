{
  "metadata": {
    "kernelspec": {
      "language": "python",
      "display_name": "Python 3",
      "name": "python3"
    },
    "language_info": {
      "name": "python",
      "version": "3.7.12",
      "mimetype": "text/x-python",
      "codemirror_mode": {
        "name": "ipython",
        "version": 3
      },
      "pygments_lexer": "ipython3",
      "nbconvert_exporter": "python",
      "file_extension": ".py"
    },
    "colab": {
      "name": "Project_Kaggle_DigitRecognizer.ipynb",
      "provenance": [],
      "collapsed_sections": [],
      "include_colab_link": true
    },
    "accelerator": "GPU"
  },
  "nbformat_minor": 0,
  "nbformat": 4,
  "cells": [
    {
      "cell_type": "markdown",
      "metadata": {
        "id": "view-in-github",
        "colab_type": "text"
      },
      "source": [
        "<a href=\"https://colab.research.google.com/github/yingch08/Digit-Recognizer/blob/main/Project_Kaggle_DigitRecognizer.ipynb\" target=\"_parent\"><img src=\"https://colab.research.google.com/assets/colab-badge.svg\" alt=\"Open In Colab\"/></a>"
      ]
    },
    {
      "cell_type": "markdown",
      "source": [
        "\n",
        "\n",
        "## **Overview**\n",
        "This is a Kaggle project of building a digit recognizer (Project: https://www.kaggle.com/competitions/digit-recognizer/overview ). \n",
        "This notebook includes:  \n",
        "\n",
        "    Part 1. Data Preprocessing\n",
        "    Part 2. Model Building (Neural Network)\n",
        "    Part 3. Visualization"
      ],
      "metadata": {
        "id": "zxwZvdPHMjTp"
      }
    },
    {
      "cell_type": "markdown",
      "source": [
        "#### **Part 0. Data Import & Environment Setting**"
      ],
      "metadata": {
        "id": "ndbWg457PSqR"
      }
    },
    {
      "cell_type": "code",
      "source": [
        "#Using Kaggle's beta API. \n",
        "!pip install kaggle"
      ],
      "metadata": {
        "id": "19Ib8O9J_xWW",
        "colab": {
          "base_uri": "https://localhost:8080/"
        },
        "outputId": "d14feddc-6c65-426b-e051-a093e0437d9e"
      },
      "execution_count": null,
      "outputs": [
        {
          "output_type": "stream",
          "name": "stdout",
          "text": [
            "Requirement already satisfied: kaggle in /usr/local/lib/python3.7/dist-packages (1.5.12)\n",
            "Requirement already satisfied: urllib3 in /usr/local/lib/python3.7/dist-packages (from kaggle) (1.24.3)\n",
            "Requirement already satisfied: python-slugify in /usr/local/lib/python3.7/dist-packages (from kaggle) (6.1.2)\n",
            "Requirement already satisfied: python-dateutil in /usr/local/lib/python3.7/dist-packages (from kaggle) (2.8.2)\n",
            "Requirement already satisfied: requests in /usr/local/lib/python3.7/dist-packages (from kaggle) (2.23.0)\n",
            "Requirement already satisfied: six>=1.10 in /usr/local/lib/python3.7/dist-packages (from kaggle) (1.15.0)\n",
            "Requirement already satisfied: tqdm in /usr/local/lib/python3.7/dist-packages (from kaggle) (4.64.0)\n",
            "Requirement already satisfied: certifi in /usr/local/lib/python3.7/dist-packages (from kaggle) (2021.10.8)\n",
            "Requirement already satisfied: text-unidecode>=1.3 in /usr/local/lib/python3.7/dist-packages (from python-slugify->kaggle) (1.3)\n",
            "Requirement already satisfied: idna<3,>=2.5 in /usr/local/lib/python3.7/dist-packages (from requests->kaggle) (2.10)\n",
            "Requirement already satisfied: chardet<4,>=3.0.2 in /usr/local/lib/python3.7/dist-packages (from requests->kaggle) (3.0.4)\n"
          ]
        }
      ]
    },
    {
      "cell_type": "code",
      "source": [
        "from google.colab import files\n",
        "uploaded = files.upload()\n",
        "\n",
        "for fn in uploaded.keys():\n",
        "  print('User uploaded file \"{name}\" with length {length} bytes'.format(\n",
        "      name=fn, length=len(uploaded[fn])))\n",
        "  \n",
        "# Then move kaggle.json into the folder where the API expects to find it.\n",
        "!mkdir -p ~/.kaggle/ && mv kaggle.json ~/.kaggle/ && chmod 600 ~/.kaggle/kaggle.json"
      ],
      "metadata": {
        "id": "12VECSMg_1Qt",
        "colab": {
          "resources": {
            "http://localhost:8080/nbextensions/google.colab/files.js": {
              "data": "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",
              "ok": true,
              "headers": [
                [
                  "content-type",
                  "application/javascript"
                ]
              ],
              "status": 200,
              "status_text": ""
            }
          },
          "base_uri": "https://localhost:8080/",
          "height": 93
        },
        "outputId": "fe5e8ce8-a0b0-49e4-e287-bb859e6b7278"
      },
      "execution_count": null,
      "outputs": [
        {
          "output_type": "display_data",
          "data": {
            "text/plain": [
              "<IPython.core.display.HTML object>"
            ],
            "text/html": [
              "\n",
              "     <input type=\"file\" id=\"files-9226f82e-453b-402c-9296-9e14b8c1f926\" name=\"files[]\" multiple disabled\n",
              "        style=\"border:none\" />\n",
              "     <output id=\"result-9226f82e-453b-402c-9296-9e14b8c1f926\">\n",
              "      Upload widget is only available when the cell has been executed in the\n",
              "      current browser session. Please rerun this cell to enable.\n",
              "      </output>\n",
              "      <script src=\"/nbextensions/google.colab/files.js\"></script> "
            ]
          },
          "metadata": {}
        },
        {
          "output_type": "stream",
          "name": "stdout",
          "text": [
            "Saving kaggle.json to kaggle.json\n",
            "User uploaded file \"kaggle.json\" with length 69 bytes\n"
          ]
        }
      ]
    },
    {
      "cell_type": "code",
      "source": [
        "!kaggle competitions download -c digit-recognizer\n",
        "!unzip digit-recognizer.zip"
      ],
      "metadata": {
        "id": "75CKaSps_8P3",
        "colab": {
          "base_uri": "https://localhost:8080/"
        },
        "outputId": "350c6094-0d7c-4c0c-c753-ea1e71f71d9f"
      },
      "execution_count": null,
      "outputs": [
        {
          "output_type": "stream",
          "name": "stdout",
          "text": [
            "Downloading digit-recognizer.zip to /content\n",
            "\r  0% 0.00/15.3M [00:00<?, ?B/s]\r 33% 5.00M/15.3M [00:00<00:00, 44.2MB/s]\n",
            "\r100% 15.3M/15.3M [00:00<00:00, 104MB/s] \n",
            "Archive:  digit-recognizer.zip\n",
            "  inflating: sample_submission.csv   \n",
            "  inflating: test.csv                \n",
            "  inflating: train.csv               \n"
          ]
        }
      ]
    },
    {
      "cell_type": "code",
      "source": [
        "import pandas as pd\n",
        "import numpy as np\n",
        "\n",
        "import warnings\n",
        "warnings.filterwarnings('ignore')\n",
        "\n",
        "# read the data\n",
        "df_train = pd.read_csv(\"train.csv\")\n",
        "df_test = pd.read_csv(\"test.csv\")"
      ],
      "metadata": {
        "id": "6FjwhOqQ_9eT"
      },
      "execution_count": null,
      "outputs": []
    },
    {
      "cell_type": "markdown",
      "source": [
        "#### **Part 1. Data Preprocessing**"
      ],
      "metadata": {
        "id": "ggBWbJKfuy7A"
      }
    },
    {
      "cell_type": "code",
      "source": [
        "import tensorflow as tf\n",
        "import tensorflow.keras as keras\n",
        "from tensorflow.keras import Sequential\n",
        "from tensorflow.keras.layers import Flatten, Dense, Conv2D, MaxPooling2D, Dropout, MaxPool2D\n",
        "from sklearn.model_selection import train_test_split\n",
        "import matplotlib.pyplot as plt\n",
        "from sklearn.metrics import confusion_matrix\n",
        "import seaborn as sns\n",
        "#set a random seed\n",
        "tf.random.set_seed(20770)"
      ],
      "metadata": {
        "execution": {
          "iopub.status.busy": "2022-05-08T20:51:19.688765Z",
          "iopub.execute_input": "2022-05-08T20:51:19.689160Z",
          "iopub.status.idle": "2022-05-08T20:51:19.703100Z",
          "shell.execute_reply.started": "2022-05-08T20:51:19.689110Z",
          "shell.execute_reply": "2022-05-08T20:51:19.702197Z"
        },
        "trusted": true,
        "id": "hBAaAJhnuy7C"
      },
      "execution_count": null,
      "outputs": []
    },
    {
      "cell_type": "markdown",
      "source": [
        "* First we look at the parameters in the data."
      ],
      "metadata": {
        "id": "uqJ42LNMuy7E"
      }
    },
    {
      "cell_type": "code",
      "source": [
        "df_train.head()"
      ],
      "metadata": {
        "execution": {
          "iopub.status.busy": "2022-05-08T20:29:10.440507Z",
          "iopub.execute_input": "2022-05-08T20:29:10.440830Z",
          "iopub.status.idle": "2022-05-08T20:29:10.466308Z",
          "shell.execute_reply.started": "2022-05-08T20:29:10.440787Z",
          "shell.execute_reply": "2022-05-08T20:29:10.465346Z"
        },
        "trusted": true,
        "id": "QCW8byOiuy7F",
        "colab": {
          "base_uri": "https://localhost:8080/",
          "height": 299
        },
        "outputId": "c6543a0d-bac8-44ff-c907-b0e535f3e51d"
      },
      "execution_count": null,
      "outputs": [
        {
          "output_type": "execute_result",
          "data": {
            "text/plain": [
              "   label  pixel0  pixel1  pixel2  pixel3  pixel4  pixel5  pixel6  pixel7  \\\n",
              "0      1       0       0       0       0       0       0       0       0   \n",
              "1      0       0       0       0       0       0       0       0       0   \n",
              "2      1       0       0       0       0       0       0       0       0   \n",
              "3      4       0       0       0       0       0       0       0       0   \n",
              "4      0       0       0       0       0       0       0       0       0   \n",
              "\n",
              "   pixel8  ...  pixel774  pixel775  pixel776  pixel777  pixel778  pixel779  \\\n",
              "0       0  ...         0         0         0         0         0         0   \n",
              "1       0  ...         0         0         0         0         0         0   \n",
              "2       0  ...         0         0         0         0         0         0   \n",
              "3       0  ...         0         0         0         0         0         0   \n",
              "4       0  ...         0         0         0         0         0         0   \n",
              "\n",
              "   pixel780  pixel781  pixel782  pixel783  \n",
              "0         0         0         0         0  \n",
              "1         0         0         0         0  \n",
              "2         0         0         0         0  \n",
              "3         0         0         0         0  \n",
              "4         0         0         0         0  \n",
              "\n",
              "[5 rows x 785 columns]"
            ],
            "text/html": [
              "\n",
              "  <div id=\"df-44507456-66a2-42ca-a26e-00b64aabf70a\">\n",
              "    <div class=\"colab-df-container\">\n",
              "      <div>\n",
              "<style scoped>\n",
              "    .dataframe tbody tr th:only-of-type {\n",
              "        vertical-align: middle;\n",
              "    }\n",
              "\n",
              "    .dataframe tbody tr th {\n",
              "        vertical-align: top;\n",
              "    }\n",
              "\n",
              "    .dataframe thead th {\n",
              "        text-align: right;\n",
              "    }\n",
              "</style>\n",
              "<table border=\"1\" class=\"dataframe\">\n",
              "  <thead>\n",
              "    <tr style=\"text-align: right;\">\n",
              "      <th></th>\n",
              "      <th>label</th>\n",
              "      <th>pixel0</th>\n",
              "      <th>pixel1</th>\n",
              "      <th>pixel2</th>\n",
              "      <th>pixel3</th>\n",
              "      <th>pixel4</th>\n",
              "      <th>pixel5</th>\n",
              "      <th>pixel6</th>\n",
              "      <th>pixel7</th>\n",
              "      <th>pixel8</th>\n",
              "      <th>...</th>\n",
              "      <th>pixel774</th>\n",
              "      <th>pixel775</th>\n",
              "      <th>pixel776</th>\n",
              "      <th>pixel777</th>\n",
              "      <th>pixel778</th>\n",
              "      <th>pixel779</th>\n",
              "      <th>pixel780</th>\n",
              "      <th>pixel781</th>\n",
              "      <th>pixel782</th>\n",
              "      <th>pixel783</th>\n",
              "    </tr>\n",
              "  </thead>\n",
              "  <tbody>\n",
              "    <tr>\n",
              "      <th>0</th>\n",
              "      <td>1</td>\n",
              "      <td>0</td>\n",
              "      <td>0</td>\n",
              "      <td>0</td>\n",
              "      <td>0</td>\n",
              "      <td>0</td>\n",
              "      <td>0</td>\n",
              "      <td>0</td>\n",
              "      <td>0</td>\n",
              "      <td>0</td>\n",
              "      <td>...</td>\n",
              "      <td>0</td>\n",
              "      <td>0</td>\n",
              "      <td>0</td>\n",
              "      <td>0</td>\n",
              "      <td>0</td>\n",
              "      <td>0</td>\n",
              "      <td>0</td>\n",
              "      <td>0</td>\n",
              "      <td>0</td>\n",
              "      <td>0</td>\n",
              "    </tr>\n",
              "    <tr>\n",
              "      <th>1</th>\n",
              "      <td>0</td>\n",
              "      <td>0</td>\n",
              "      <td>0</td>\n",
              "      <td>0</td>\n",
              "      <td>0</td>\n",
              "      <td>0</td>\n",
              "      <td>0</td>\n",
              "      <td>0</td>\n",
              "      <td>0</td>\n",
              "      <td>0</td>\n",
              "      <td>...</td>\n",
              "      <td>0</td>\n",
              "      <td>0</td>\n",
              "      <td>0</td>\n",
              "      <td>0</td>\n",
              "      <td>0</td>\n",
              "      <td>0</td>\n",
              "      <td>0</td>\n",
              "      <td>0</td>\n",
              "      <td>0</td>\n",
              "      <td>0</td>\n",
              "    </tr>\n",
              "    <tr>\n",
              "      <th>2</th>\n",
              "      <td>1</td>\n",
              "      <td>0</td>\n",
              "      <td>0</td>\n",
              "      <td>0</td>\n",
              "      <td>0</td>\n",
              "      <td>0</td>\n",
              "      <td>0</td>\n",
              "      <td>0</td>\n",
              "      <td>0</td>\n",
              "      <td>0</td>\n",
              "      <td>...</td>\n",
              "      <td>0</td>\n",
              "      <td>0</td>\n",
              "      <td>0</td>\n",
              "      <td>0</td>\n",
              "      <td>0</td>\n",
              "      <td>0</td>\n",
              "      <td>0</td>\n",
              "      <td>0</td>\n",
              "      <td>0</td>\n",
              "      <td>0</td>\n",
              "    </tr>\n",
              "    <tr>\n",
              "      <th>3</th>\n",
              "      <td>4</td>\n",
              "      <td>0</td>\n",
              "      <td>0</td>\n",
              "      <td>0</td>\n",
              "      <td>0</td>\n",
              "      <td>0</td>\n",
              "      <td>0</td>\n",
              "      <td>0</td>\n",
              "      <td>0</td>\n",
              "      <td>0</td>\n",
              "      <td>...</td>\n",
              "      <td>0</td>\n",
              "      <td>0</td>\n",
              "      <td>0</td>\n",
              "      <td>0</td>\n",
              "      <td>0</td>\n",
              "      <td>0</td>\n",
              "      <td>0</td>\n",
              "      <td>0</td>\n",
              "      <td>0</td>\n",
              "      <td>0</td>\n",
              "    </tr>\n",
              "    <tr>\n",
              "      <th>4</th>\n",
              "      <td>0</td>\n",
              "      <td>0</td>\n",
              "      <td>0</td>\n",
              "      <td>0</td>\n",
              "      <td>0</td>\n",
              "      <td>0</td>\n",
              "      <td>0</td>\n",
              "      <td>0</td>\n",
              "      <td>0</td>\n",
              "      <td>0</td>\n",
              "      <td>...</td>\n",
              "      <td>0</td>\n",
              "      <td>0</td>\n",
              "      <td>0</td>\n",
              "      <td>0</td>\n",
              "      <td>0</td>\n",
              "      <td>0</td>\n",
              "      <td>0</td>\n",
              "      <td>0</td>\n",
              "      <td>0</td>\n",
              "      <td>0</td>\n",
              "    </tr>\n",
              "  </tbody>\n",
              "</table>\n",
              "<p>5 rows × 785 columns</p>\n",
              "</div>\n",
              "      <button class=\"colab-df-convert\" onclick=\"convertToInteractive('df-44507456-66a2-42ca-a26e-00b64aabf70a')\"\n",
              "              title=\"Convert this dataframe to an interactive table.\"\n",
              "              style=\"display:none;\">\n",
              "        \n",
              "  <svg xmlns=\"http://www.w3.org/2000/svg\" height=\"24px\"viewBox=\"0 0 24 24\"\n",
              "       width=\"24px\">\n",
              "    <path d=\"M0 0h24v24H0V0z\" fill=\"none\"/>\n",
              "    <path d=\"M18.56 5.44l.94 2.06.94-2.06 2.06-.94-2.06-.94-.94-2.06-.94 2.06-2.06.94zm-11 1L8.5 8.5l.94-2.06 2.06-.94-2.06-.94L8.5 2.5l-.94 2.06-2.06.94zm10 10l.94 2.06.94-2.06 2.06-.94-2.06-.94-.94-2.06-.94 2.06-2.06.94z\"/><path d=\"M17.41 7.96l-1.37-1.37c-.4-.4-.92-.59-1.43-.59-.52 0-1.04.2-1.43.59L10.3 9.45l-7.72 7.72c-.78.78-.78 2.05 0 2.83L4 21.41c.39.39.9.59 1.41.59.51 0 1.02-.2 1.41-.59l7.78-7.78 2.81-2.81c.8-.78.8-2.07 0-2.86zM5.41 20L4 18.59l7.72-7.72 1.47 1.35L5.41 20z\"/>\n",
              "  </svg>\n",
              "      </button>\n",
              "      \n",
              "  <style>\n",
              "    .colab-df-container {\n",
              "      display:flex;\n",
              "      flex-wrap:wrap;\n",
              "      gap: 12px;\n",
              "    }\n",
              "\n",
              "    .colab-df-convert {\n",
              "      background-color: #E8F0FE;\n",
              "      border: none;\n",
              "      border-radius: 50%;\n",
              "      cursor: pointer;\n",
              "      display: none;\n",
              "      fill: #1967D2;\n",
              "      height: 32px;\n",
              "      padding: 0 0 0 0;\n",
              "      width: 32px;\n",
              "    }\n",
              "\n",
              "    .colab-df-convert:hover {\n",
              "      background-color: #E2EBFA;\n",
              "      box-shadow: 0px 1px 2px rgba(60, 64, 67, 0.3), 0px 1px 3px 1px rgba(60, 64, 67, 0.15);\n",
              "      fill: #174EA6;\n",
              "    }\n",
              "\n",
              "    [theme=dark] .colab-df-convert {\n",
              "      background-color: #3B4455;\n",
              "      fill: #D2E3FC;\n",
              "    }\n",
              "\n",
              "    [theme=dark] .colab-df-convert:hover {\n",
              "      background-color: #434B5C;\n",
              "      box-shadow: 0px 1px 3px 1px rgba(0, 0, 0, 0.15);\n",
              "      filter: drop-shadow(0px 1px 2px rgba(0, 0, 0, 0.3));\n",
              "      fill: #FFFFFF;\n",
              "    }\n",
              "  </style>\n",
              "\n",
              "      <script>\n",
              "        const buttonEl =\n",
              "          document.querySelector('#df-44507456-66a2-42ca-a26e-00b64aabf70a button.colab-df-convert');\n",
              "        buttonEl.style.display =\n",
              "          google.colab.kernel.accessAllowed ? 'block' : 'none';\n",
              "\n",
              "        async function convertToInteractive(key) {\n",
              "          const element = document.querySelector('#df-44507456-66a2-42ca-a26e-00b64aabf70a');\n",
              "          const dataTable =\n",
              "            await google.colab.kernel.invokeFunction('convertToInteractive',\n",
              "                                                     [key], {});\n",
              "          if (!dataTable) return;\n",
              "\n",
              "          const docLinkHtml = 'Like what you see? Visit the ' +\n",
              "            '<a target=\"_blank\" href=https://colab.research.google.com/notebooks/data_table.ipynb>data table notebook</a>'\n",
              "            + ' to learn more about interactive tables.';\n",
              "          element.innerHTML = '';\n",
              "          dataTable['output_type'] = 'display_data';\n",
              "          await google.colab.output.renderOutput(dataTable, element);\n",
              "          const docLink = document.createElement('div');\n",
              "          docLink.innerHTML = docLinkHtml;\n",
              "          element.appendChild(docLink);\n",
              "        }\n",
              "      </script>\n",
              "    </div>\n",
              "  </div>\n",
              "  "
            ]
          },
          "metadata": {},
          "execution_count": 6
        }
      ]
    },
    {
      "cell_type": "markdown",
      "source": [
        "*  We observed that the data provided by Kaggle is different from the data we import from MNIST package.\n",
        "* Each item is represented by 28*28=784 pixel, each representing a color."
      ],
      "metadata": {
        "id": "naA9AFMJuy7F"
      }
    },
    {
      "cell_type": "code",
      "source": [
        "#Define input as X_train and output as Y_train\n",
        "X_train = df_train.iloc[:,1:]\n",
        "X_train1 = df_train.iloc[:,1:] #this will be used for show plots\n",
        "Y_train = df_train.iloc[:,0]\n",
        "\n",
        "#Now we output the shape\n",
        "X_train.shape,Y_train.shape"
      ],
      "metadata": {
        "execution": {
          "iopub.status.busy": "2022-05-08T21:05:37.430658Z",
          "iopub.execute_input": "2022-05-08T21:05:37.431527Z",
          "iopub.status.idle": "2022-05-08T21:05:37.442847Z",
          "shell.execute_reply.started": "2022-05-08T21:05:37.431484Z",
          "shell.execute_reply": "2022-05-08T21:05:37.441979Z"
        },
        "trusted": true,
        "colab": {
          "base_uri": "https://localhost:8080/"
        },
        "id": "z698johJuy7G",
        "outputId": "da7fed8b-d90c-4e2e-cd1a-e38002659ebb"
      },
      "execution_count": null,
      "outputs": [
        {
          "output_type": "execute_result",
          "data": {
            "text/plain": [
              "((42000, 784), (42000,))"
            ]
          },
          "metadata": {},
          "execution_count": 7
        }
      ]
    },
    {
      "cell_type": "markdown",
      "source": [
        "* We will have to reshape the data if using a convolutional neural network model because CNN is designed to work with 3 dimensions for every sample. refer:https://datascience.stackexchange.com/questions/60126/data-reshaping-for-cnn-using-keras\n",
        "* reshape() method:\n",
        "    * array = array.reshape((n_samples, width, height, n_channels))\n",
        "    * for color images: n_channels = 3\n",
        "    * for gray scale images: n_channels = 1"
      ],
      "metadata": {
        "id": "8Qt_YHAcuy7H"
      }
    },
    {
      "cell_type": "code",
      "source": [
        "#reshape data\n",
        "X_train1 = X_train1.values.reshape(-1,28,28)#plots must be shaped in (28,28) in Colab, but can also use (28,28,1) in Kaggle\n",
        "X_train = X_train.values.reshape(-1,28,28,1)\n",
        "test = df_test.values.reshape(-1,28,28,1)\n",
        "\n",
        "#output shape\n",
        "X_train1.shape,test.shape"
      ],
      "metadata": {
        "execution": {
          "iopub.status.busy": "2022-05-08T20:29:10.482067Z",
          "iopub.execute_input": "2022-05-08T20:29:10.482467Z",
          "iopub.status.idle": "2022-05-08T20:29:10.496362Z",
          "shell.execute_reply.started": "2022-05-08T20:29:10.482426Z",
          "shell.execute_reply": "2022-05-08T20:29:10.495296Z"
        },
        "trusted": true,
        "colab": {
          "base_uri": "https://localhost:8080/"
        },
        "id": "W8vRiFWJuy7I",
        "outputId": "36bf9068-e085-4b62-ca78-7acb922a8c60"
      },
      "execution_count": null,
      "outputs": [
        {
          "output_type": "execute_result",
          "data": {
            "text/plain": [
              "((42000, 28, 28), (28000, 28, 28, 1))"
            ]
          },
          "metadata": {},
          "execution_count": 8
        }
      ]
    },
    {
      "cell_type": "code",
      "source": [
        "#Normalize data\n",
        "X_train = X_train / 255.0\n",
        "test = df_test / 255.0"
      ],
      "metadata": {
        "execution": {
          "iopub.status.busy": "2022-05-08T20:29:10.498226Z",
          "iopub.execute_input": "2022-05-08T20:29:10.498553Z",
          "iopub.status.idle": "2022-05-08T20:29:10.798067Z",
          "shell.execute_reply.started": "2022-05-08T20:29:10.498510Z",
          "shell.execute_reply": "2022-05-08T20:29:10.797204Z"
        },
        "trusted": true,
        "id": "zsPDKi_muy7J"
      },
      "execution_count": null,
      "outputs": []
    },
    {
      "cell_type": "markdown",
      "source": [
        "* Now plot the image"
      ],
      "metadata": {
        "id": "3hi7Qu3Nuy7K"
      }
    },
    {
      "cell_type": "code",
      "source": [
        "#Prompt the user \"How many rows of training images would you like to review?\" and output corresponding number of rows with ten images on each row.\n",
        "n_cols = 10\n",
        "n_rows = int(input(\"How many rows of images would you like to review? \"))# enter the row you want\n",
        "\n",
        "def plot(images, labels, predictions=None):\n",
        "    # create a grid with 10 columns\n",
        "    i=1\n",
        "    fig, axes = plt.subplots(n_rows, n_cols, figsize=(n_cols + 3, n_rows + 1.5))# set the distance between blocks\n",
        "    if predictions is None:\n",
        "        predictions = [None] * len(labels)\n",
        "    for index, (x, y_true, y_pred) in enumerate(zip(images, labels, predictions)):\n",
        "      if i <= n_cols*n_rows: #run only if index <= row* 10 columns\n",
        "        i=i+1\n",
        "        ax = axes.flat[index]\n",
        "        ax.imshow(x, cmap=plt.cm.binary)\n",
        "        ax.set_title(y_true)\n",
        "        if y_pred is not None:\n",
        "            ax.set_xlabel(class_names[y_pred])\n",
        "        ax.set_xticks([])\n",
        "        ax.set_yticks([])\n",
        "\n",
        "# plot images\n",
        "plot(X_train1[:(n_rows*n_cols)], Y_train[:((n_rows*n_cols))])"
      ],
      "metadata": {
        "execution": {
          "iopub.status.busy": "2022-05-08T20:29:10.799037Z",
          "iopub.execute_input": "2022-05-08T20:29:10.799290Z",
          "iopub.status.idle": "2022-05-08T20:29:13.753918Z",
          "shell.execute_reply.started": "2022-05-08T20:29:10.799259Z",
          "shell.execute_reply": "2022-05-08T20:29:13.752805Z"
        },
        "trusted": true,
        "id": "5KLv0I_ruy7K",
        "colab": {
          "base_uri": "https://localhost:8080/",
          "height": 233
        },
        "outputId": "8cdc8ca8-ea27-4d66-aacd-4dd6c9dcd2cc"
      },
      "execution_count": null,
      "outputs": [
        {
          "name": "stdout",
          "output_type": "stream",
          "text": [
            "How many rows of images would you like to review? 2\n"
          ]
        },
        {
          "output_type": "display_data",
          "data": {
            "text/plain": [
              "<Figure size 936x252 with 20 Axes>"
            ],
            "image/png": "[encoded data removed]"
          },
          "metadata": {}
        }
      ]
    },
    {
      "cell_type": "markdown",
      "source": [
        "#### **Part 2. Model Building (CNN Model)**"
      ],
      "metadata": {
        "id": "yjTGKvJjuy7L"
      }
    },
    {
      "cell_type": "markdown",
      "source": [
        "* Reference: https://www.kaggle.com/code/yassineghouzam/introduction-to-cnn-keras-0-997-top-6 \n",
        "* The model with this architechture turned out to be the best performance\n",
        " **In -> [[Conv2D->relu]2 -> MaxPool2D -> Dropout]2 -> Flatten -> Dense -> Dropout -> Out**\n",
        "* convolutional layers: these run input through certain filters, which identify features in the image\n",
        "    * We use relu as activation. A relu activation stands for “Rectified Linear Units”, which takes the max of a value or zero.\n",
        "    * Add another convolutional layer\n",
        "    * Add pooling layer combine convolutional features, helping in feature reduction\n",
        "    * Add a “dropout” layer to avoid this overfit, 0.25 means randomly drop 25% of the units and their connections during the training process\n",
        "* flatten layers: these convert an N-dimentional layer to a 1D layer\n",
        "    * Add a dense hidden layer\n",
        "    * Add another dropout layer before adding a final dense layer which classifies the data\n",
        "    * The softmax activation is used for categorical classification, softmax can provide a probability of classification\n",
        "* output layer\n",
        "    * We use softmax for categorical classification"
      ],
      "metadata": {
        "id": "dWZz8MUiuy7L"
      }
    },
    {
      "cell_type": "code",
      "source": [
        "# Set up CNN model\n",
        "model = keras.Sequential()\n",
        "\n",
        "# First convolution layer, 32 convolution kernels, size 5x5, convolution mode SAME, activation function Relu, size of input tensor. 5*5 sliding window, extract 32 feature images  \n",
        "model.add(Conv2D(filters=32, kernel_size=(3, 3), padding='Same', activation='relu',\n",
        "                 input_shape=(28, 28, 1)))\n",
        "model.add(Conv2D(filters=32, kernel_size=(3, 3), padding='Same', activation='relu'))\n",
        "\n",
        "# Pooling layer, pooling core size 2x2, select the maximum value in the convolution layer, fix the eigenvalue, compress the image eigenvalue  \n",
        "model.add(MaxPool2D(pool_size=(2, 2)))\n",
        "\n",
        "# Discard a quarter of the network connections randomly to prevent overfitting  \n",
        "model.add(Dropout(0.25))\n",
        "\n",
        "#Compared with the feature graph of the first convolution layer, parameter 64 is set  \n",
        "model.add(Conv2D(filters=64, kernel_size=(3, 3), padding='Same', activation='relu'))\n",
        "model.add(Conv2D(filters=64, kernel_size=(3, 3), padding='Same', activation='relu'))\n",
        "model.add(MaxPool2D(pool_size=(2, 2), strides=(2, 2)))\n",
        "model.add(Dropout(0.25))\n",
        "\n",
        "#Compared with the feature graph of the first convolution layer, parameter 64 is set  \n",
        "model.add(Conv2D(filters=128, kernel_size=(3, 3), padding='Same', activation='relu'))\n",
        "model.add(Conv2D(filters=64, kernel_size=(3, 3), padding='Same', activation='relu'))\n",
        "model.add(MaxPool2D(pool_size=(2, 2), strides=(2, 2)))\n",
        "model.add(Dropout(0.3))\n",
        "\n",
        "#Compared with the feature graph of the first convolution layer, parameter 64 is set  \n",
        "model.add(Conv2D(filters=256, kernel_size=(3, 3), padding='Same', activation='relu'))\n",
        "model.add(Conv2D(filters=256, kernel_size=(3, 3), padding='Same', activation='relu'))\n",
        "model.add(MaxPool2D(pool_size=(2, 2), strides=(2, 2)))\n",
        "model.add(Dropout(0.4))\n",
        "\n",
        "# Full connection layer, expand operation. Convert eigenvalues into vectors\n",
        "model.add(Flatten())\n",
        "\n",
        "# Add hidden layer\n",
        "model.add(Dense(256, activation='relu'))\n",
        "model.add(Dropout(0.25))\n",
        "\n",
        "# Output layer\n",
        "model.add(Dense(10, activation='softmax'))\n",
        "model.summary()"
      ],
      "metadata": {
        "execution": {
          "iopub.status.busy": "2022-05-08T20:29:13.755550Z",
          "iopub.execute_input": "2022-05-08T20:29:13.755857Z",
          "iopub.status.idle": "2022-05-08T20:29:13.897510Z",
          "shell.execute_reply.started": "2022-05-08T20:29:13.755817Z",
          "shell.execute_reply": "2022-05-08T20:29:13.896571Z"
        },
        "trusted": true,
        "id": "xMqDCkEZuy7M",
        "colab": {
          "base_uri": "https://localhost:8080/"
        },
        "outputId": "6ff31977-5424-4ed1-9317-32ff1ad4241e"
      },
      "execution_count": null,
      "outputs": [
        {
          "output_type": "stream",
          "name": "stdout",
          "text": [
            "Model: \"sequential_2\"\n",
            "_________________________________________________________________\n",
            " Layer (type)                Output Shape              Param #   \n",
            "=================================================================\n",
            " conv2d_14 (Conv2D)          (None, 28, 28, 32)        320       \n",
            "                                                                 \n",
            " conv2d_15 (Conv2D)          (None, 28, 28, 32)        9248      \n",
            "                                                                 \n",
            " max_pooling2d_7 (MaxPooling  (None, 14, 14, 32)       0         \n",
            " 2D)                                                             \n",
            "                                                                 \n",
            " dropout_9 (Dropout)         (None, 14, 14, 32)        0         \n",
            "                                                                 \n",
            " conv2d_16 (Conv2D)          (None, 14, 14, 64)        18496     \n",
            "                                                                 \n",
            " conv2d_17 (Conv2D)          (None, 14, 14, 64)        36928     \n",
            "                                                                 \n",
            " max_pooling2d_8 (MaxPooling  (None, 7, 7, 64)         0         \n",
            " 2D)                                                             \n",
            "                                                                 \n",
            " dropout_10 (Dropout)        (None, 7, 7, 64)          0         \n",
            "                                                                 \n",
            " conv2d_18 (Conv2D)          (None, 7, 7, 128)         73856     \n",
            "                                                                 \n",
            " conv2d_19 (Conv2D)          (None, 7, 7, 64)          73792     \n",
            "                                                                 \n",
            " max_pooling2d_9 (MaxPooling  (None, 3, 3, 64)         0         \n",
            " 2D)                                                             \n",
            "                                                                 \n",
            " dropout_11 (Dropout)        (None, 3, 3, 64)          0         \n",
            "                                                                 \n",
            " conv2d_20 (Conv2D)          (None, 3, 3, 256)         147712    \n",
            "                                                                 \n",
            " conv2d_21 (Conv2D)          (None, 3, 3, 256)         590080    \n",
            "                                                                 \n",
            " max_pooling2d_10 (MaxPoolin  (None, 1, 1, 256)        0         \n",
            " g2D)                                                            \n",
            "                                                                 \n",
            " dropout_12 (Dropout)        (None, 1, 1, 256)         0         \n",
            "                                                                 \n",
            " flatten_2 (Flatten)         (None, 256)               0         \n",
            "                                                                 \n",
            " dense_4 (Dense)             (None, 256)               65792     \n",
            "                                                                 \n",
            " dropout_13 (Dropout)        (None, 256)               0         \n",
            "                                                                 \n",
            " dense_5 (Dense)             (None, 10)                2570      \n",
            "                                                                 \n",
            "=================================================================\n",
            "Total params: 1,018,794\n",
            "Trainable params: 1,018,794\n",
            "Non-trainable params: 0\n",
            "_________________________________________________________________\n"
          ]
        }
      ]
    },
    {
      "cell_type": "markdown",
      "source": [
        "* Now we use the sparse_categorical_crossentropy() loss function to configure the model training method, inform the optimizer, loss function and accuracy criterion used for training. For vector-based dependent variables categorical_crossentropy is the best solution. Set up an optimizer with a given loss function that uses a metric and fits the model using our training data. The ADAM optimizer outperforms other optimizers.\n",
        "* An epoch is one forward pass and one backward pass of all training examples.We set the epochs to 10, but for better performance it can be 20, but will take more time. Later we will analyse whether it worse taking the time. The batch size is the number of training examples in one forward or backward pass."
      ],
      "metadata": {
        "id": "QBDNxDPmuy7N"
      }
    },
    {
      "cell_type": "code",
      "source": [
        "# Fit CNN model\n",
        "model.compile(optimizer=\"adam\", loss=\"sparse_categorical_crossentropy\", metrics=[\"accuracy\"])\n",
        "model_fit=model.fit(X_train, Y_train, batch_size=60, epochs=30,validation_split=0.2)"
      ],
      "metadata": {
        "execution": {
          "iopub.status.busy": "2022-05-08T20:29:13.898730Z",
          "iopub.execute_input": "2022-05-08T20:29:13.898938Z",
          "iopub.status.idle": "2022-05-08T20:43:27.207003Z",
          "shell.execute_reply.started": "2022-05-08T20:29:13.898911Z",
          "shell.execute_reply": "2022-05-08T20:43:27.205695Z"
        },
        "trusted": true,
        "id": "mivZgFfbuy7O",
        "colab": {
          "base_uri": "https://localhost:8080/"
        },
        "outputId": "104e8ad9-6d22-4fcb-fd81-b4ebcf3e8542"
      },
      "execution_count": null,
      "outputs": [
        {
          "output_type": "stream",
          "name": "stdout",
          "text": [
            "Epoch 1/30\n",
            "560/560 [==============================] - 6s 9ms/step - loss: 0.4542 - accuracy: 0.8493 - val_loss: 0.0952 - val_accuracy: 0.9724\n",
            "Epoch 2/30\n",
            "560/560 [==============================] - 5s 8ms/step - loss: 0.1053 - accuracy: 0.9710 - val_loss: 0.0479 - val_accuracy: 0.9860\n",
            "Epoch 3/30\n",
            "560/560 [==============================] - 4s 8ms/step - loss: 0.0822 - accuracy: 0.9774 - val_loss: 0.0515 - val_accuracy: 0.9860\n",
            "Epoch 4/30\n",
            "560/560 [==============================] - 5s 8ms/step - loss: 0.0694 - accuracy: 0.9816 - val_loss: 0.0395 - val_accuracy: 0.9894\n",
            "Epoch 5/30\n",
            "560/560 [==============================] - 4s 8ms/step - loss: 0.0587 - accuracy: 0.9837 - val_loss: 0.0374 - val_accuracy: 0.9892\n",
            "Epoch 6/30\n",
            "560/560 [==============================] - 4s 8ms/step - loss: 0.0500 - accuracy: 0.9860 - val_loss: 0.0412 - val_accuracy: 0.9893\n",
            "Epoch 7/30\n",
            "560/560 [==============================] - 4s 8ms/step - loss: 0.0508 - accuracy: 0.9857 - val_loss: 0.0438 - val_accuracy: 0.9888\n",
            "Epoch 8/30\n",
            "560/560 [==============================] - 4s 8ms/step - loss: 0.0475 - accuracy: 0.9867 - val_loss: 0.0361 - val_accuracy: 0.9913\n",
            "Epoch 9/30\n",
            "560/560 [==============================] - 5s 8ms/step - loss: 0.0391 - accuracy: 0.9897 - val_loss: 0.0370 - val_accuracy: 0.9919\n",
            "Epoch 10/30\n",
            "560/560 [==============================] - 5s 9ms/step - loss: 0.0387 - accuracy: 0.9892 - val_loss: 0.0335 - val_accuracy: 0.9921\n",
            "Epoch 11/30\n",
            "560/560 [==============================] - 5s 8ms/step - loss: 0.0396 - accuracy: 0.9889 - val_loss: 0.0313 - val_accuracy: 0.9915\n",
            "Epoch 12/30\n",
            "560/560 [==============================] - 5s 8ms/step - loss: 0.0292 - accuracy: 0.9913 - val_loss: 0.0509 - val_accuracy: 0.9896\n",
            "Epoch 13/30\n",
            "560/560 [==============================] - 5s 8ms/step - loss: 0.0355 - accuracy: 0.9893 - val_loss: 0.0367 - val_accuracy: 0.9919\n",
            "Epoch 14/30\n",
            "560/560 [==============================] - 5s 8ms/step - loss: 0.0291 - accuracy: 0.9919 - val_loss: 0.0389 - val_accuracy: 0.9912\n",
            "Epoch 15/30\n",
            "560/560 [==============================] - 5s 8ms/step - loss: 0.0332 - accuracy: 0.9912 - val_loss: 0.0322 - val_accuracy: 0.9915\n",
            "Epoch 16/30\n",
            "560/560 [==============================] - 5s 8ms/step - loss: 0.0334 - accuracy: 0.9917 - val_loss: 0.0447 - val_accuracy: 0.9923\n",
            "Epoch 17/30\n",
            "560/560 [==============================] - 5s 8ms/step - loss: 0.0305 - accuracy: 0.9914 - val_loss: 0.0378 - val_accuracy: 0.9929\n",
            "Epoch 18/30\n",
            "560/560 [==============================] - 5s 9ms/step - loss: 0.0265 - accuracy: 0.9928 - val_loss: 0.0381 - val_accuracy: 0.9920\n",
            "Epoch 19/30\n",
            "560/560 [==============================] - 5s 8ms/step - loss: 0.0302 - accuracy: 0.9921 - val_loss: 0.0401 - val_accuracy: 0.9917\n",
            "Epoch 20/30\n",
            "560/560 [==============================] - 5s 8ms/step - loss: 0.0281 - accuracy: 0.9922 - val_loss: 0.0331 - val_accuracy: 0.9927\n",
            "Epoch 21/30\n",
            "560/560 [==============================] - 4s 8ms/step - loss: 0.0263 - accuracy: 0.9932 - val_loss: 0.0421 - val_accuracy: 0.9917\n",
            "Epoch 22/30\n",
            "560/560 [==============================] - 5s 8ms/step - loss: 0.0248 - accuracy: 0.9932 - val_loss: 0.0341 - val_accuracy: 0.9920\n",
            "Epoch 23/30\n",
            "560/560 [==============================] - 5s 8ms/step - loss: 0.0269 - accuracy: 0.9930 - val_loss: 0.0293 - val_accuracy: 0.9936\n",
            "Epoch 24/30\n",
            "560/560 [==============================] - 5s 8ms/step - loss: 0.0217 - accuracy: 0.9940 - val_loss: 0.0381 - val_accuracy: 0.9905\n",
            "Epoch 25/30\n",
            "560/560 [==============================] - 5s 8ms/step - loss: 0.0253 - accuracy: 0.9938 - val_loss: 0.0608 - val_accuracy: 0.9887\n",
            "Epoch 26/30\n",
            "560/560 [==============================] - 5s 9ms/step - loss: 0.0249 - accuracy: 0.9932 - val_loss: 0.0435 - val_accuracy: 0.9926\n",
            "Epoch 27/30\n",
            "560/560 [==============================] - 5s 8ms/step - loss: 0.0241 - accuracy: 0.9940 - val_loss: 0.0391 - val_accuracy: 0.9925\n",
            "Epoch 28/30\n",
            "560/560 [==============================] - 5s 8ms/step - loss: 0.0246 - accuracy: 0.9935 - val_loss: 0.0314 - val_accuracy: 0.9920\n",
            "Epoch 29/30\n",
            "560/560 [==============================] - 5s 8ms/step - loss: 0.0251 - accuracy: 0.9932 - val_loss: 0.0346 - val_accuracy: 0.9933\n",
            "Epoch 30/30\n",
            "560/560 [==============================] - 5s 8ms/step - loss: 0.0173 - accuracy: 0.9951 - val_loss: 0.0340 - val_accuracy: 0.9938\n"
          ]
        }
      ]
    },
    {
      "cell_type": "markdown",
      "source": [
        "* Evaluate Model"
      ],
      "metadata": {
        "id": "ua4cLKmpuy7O"
      }
    },
    {
      "cell_type": "code",
      "source": [
        "# Plot the accuracy curves for training and validation \n",
        "plt.plot(model_fit.history['val_accuracy'], color='b', label=\"Validation Accuracy\")\n",
        "plt.plot(model_fit.history['accuracy'], color='r', label=\"Train Accuracy\")\n",
        "plt.title(\"Accuracy vs. Epochs\")\n",
        "plt.xlabel(\"Number of Epochs\")\n",
        "plt.ylabel(\"Accuracy\")\n",
        "plt.legend()\n",
        "plt.show()"
      ],
      "metadata": {
        "execution": {
          "iopub.status.busy": "2022-05-08T20:46:36.008798Z",
          "iopub.execute_input": "2022-05-08T20:46:36.009170Z",
          "iopub.status.idle": "2022-05-08T20:46:36.222387Z",
          "shell.execute_reply.started": "2022-05-08T20:46:36.009120Z",
          "shell.execute_reply": "2022-05-08T20:46:36.221492Z"
        },
        "trusted": true,
        "id": "jda1ApnHuy7O",
        "colab": {
          "base_uri": "https://localhost:8080/",
          "height": 295
        },
        "outputId": "41f6f802-931c-4a5b-ecdb-49d6b50369fd"
      },
      "execution_count": null,
      "outputs": [
        {
          "output_type": "display_data",
          "data": {
            "text/plain": [
              "<Figure size 432x288 with 1 Axes>"
            ],
            "image/png": "[encoded data removed]"
          },
          "metadata": {
            "needs_background": "light"
          }
        }
      ]
    },
    {
      "cell_type": "markdown",
      "source": [
        "**Plot the Confusion matrix of predict and true label of valid data to see the match of model**"
      ],
      "metadata": {
        "id": "BxyfXhtbuy7P"
      }
    },
    {
      "cell_type": "code",
      "source": [
        "#define predict label of valid data\n",
        "\n",
        "#We use validation_split in model fit, so we now need to split the last 20% of original data into validation data manually\n",
        "num = int(-0.2*len(df_train))\n",
        "x_val = df_train.iloc[num:,1:].values.reshape(-1,28,28,1)\n",
        "\n",
        "#Now predcit the valid data label\n",
        "y_pred = model.predict(x_val)\n",
        "y_pred_label = np.argmax(y_pred, 1) \n",
        "\n",
        "#define true label of valid data\n",
        "y_true = df_train.iloc[num:,0].values\n",
        "y_true"
      ],
      "metadata": {
        "execution": {
          "iopub.status.busy": "2022-05-08T21:24:35.058090Z",
          "iopub.execute_input": "2022-05-08T21:24:35.058477Z",
          "iopub.status.idle": "2022-05-08T21:24:40.274380Z",
          "shell.execute_reply.started": "2022-05-08T21:24:35.058437Z",
          "shell.execute_reply": "2022-05-08T21:24:40.273164Z"
        },
        "trusted": true,
        "id": "znYZKkZEuy7Q",
        "colab": {
          "base_uri": "https://localhost:8080/"
        },
        "outputId": "35821c4a-dc89-49a8-f599-122afaa044a3"
      },
      "execution_count": null,
      "outputs": [
        {
          "output_type": "execute_result",
          "data": {
            "text/plain": [
              "array([0, 7, 7, ..., 7, 6, 9])"
            ]
          },
          "metadata": {},
          "execution_count": 37
        }
      ]
    },
    {
      "cell_type": "code",
      "source": [
        "#Confusion matrix\n",
        "cf = confusion_matrix(y_true, y_pred_label) \n",
        "\n",
        "#Plot Confusion matrix\n",
        "sns.heatmap(cf.T, square=True, annot=True, cbar=False, cmap=plt.cm.Blues, fmt='.0f')\n",
        "plt.xlabel('Predicted Values')\n",
        "plt.ylabel('True Values');\n",
        "plt.show()"
      ],
      "metadata": {
        "execution": {
          "iopub.status.busy": "2022-05-08T21:24:50.603789Z",
          "iopub.execute_input": "2022-05-08T21:24:50.604718Z",
          "iopub.status.idle": "2022-05-08T21:24:51.100790Z",
          "shell.execute_reply.started": "2022-05-08T21:24:50.604669Z",
          "shell.execute_reply": "2022-05-08T21:24:51.100106Z"
        },
        "trusted": true,
        "id": "u7TyKYa-uy7Q",
        "colab": {
          "base_uri": "https://localhost:8080/",
          "height": 279
        },
        "outputId": "9479d5c6-ef71-4ebc-cec2-c7257504489c"
      },
      "execution_count": null,
      "outputs": [
        {
          "output_type": "display_data",
          "data": {
            "text/plain": [
              "<Figure size 432x288 with 1 Axes>"
            ],
            "image/png": "[encoded data removed]"
          },
          "metadata": {
            "needs_background": "light"
          }
        }
      ]
    },
    {
      "cell_type": "markdown",
      "source": [
        "**Predict on test data**"
      ],
      "metadata": {
        "id": "WAnEhWfWuy7R"
      }
    },
    {
      "cell_type": "code",
      "source": [
        "# predict results\n",
        "test = df_test.values.reshape(-1,28,28,1)\n",
        "results = model.predict(test)\n",
        "\n",
        "# select the indix with the maximum probability\n",
        "results = np.argmax(results,axis = 1)\n",
        "results = pd.Series(results,name=\"Label\")\n",
        "submission = pd.concat([pd.Series(range(1,28001),name = \"ImageId\"),results],axis = 1)\n",
        "submission.head()"
      ],
      "metadata": {
        "execution": {
          "iopub.status.busy": "2022-05-08T21:26:16.632883Z",
          "iopub.execute_input": "2022-05-08T21:26:16.633253Z",
          "iopub.status.idle": "2022-05-08T21:26:34.745853Z",
          "shell.execute_reply.started": "2022-05-08T21:26:16.633217Z",
          "shell.execute_reply": "2022-05-08T21:26:34.745018Z"
        },
        "trusted": true,
        "id": "bTXJHV39uy7R",
        "colab": {
          "base_uri": "https://localhost:8080/",
          "height": 206
        },
        "outputId": "d6203766-c139-4b52-b307-7fb62dc3887f"
      },
      "execution_count": null,
      "outputs": [
        {
          "output_type": "execute_result",
          "data": {
            "text/plain": [
              "   ImageId  Label\n",
              "0        1      2\n",
              "1        2      0\n",
              "2        3      9\n",
              "3        4      9\n",
              "4        5      3"
            ],
            "text/html": [
              "\n",
              "  <div id=\"df-b3898653-0c1b-48fb-98b4-b0c5b00e9a0a\">\n",
              "    <div class=\"colab-df-container\">\n",
              "      <div>\n",
              "<style scoped>\n",
              "    .dataframe tbody tr th:only-of-type {\n",
              "        vertical-align: middle;\n",
              "    }\n",
              "\n",
              "    .dataframe tbody tr th {\n",
              "        vertical-align: top;\n",
              "    }\n",
              "\n",
              "    .dataframe thead th {\n",
              "        text-align: right;\n",
              "    }\n",
              "</style>\n",
              "<table border=\"1\" class=\"dataframe\">\n",
              "  <thead>\n",
              "    <tr style=\"text-align: right;\">\n",
              "      <th></th>\n",
              "      <th>ImageId</th>\n",
              "      <th>Label</th>\n",
              "    </tr>\n",
              "  </thead>\n",
              "  <tbody>\n",
              "    <tr>\n",
              "      <th>0</th>\n",
              "      <td>1</td>\n",
              "      <td>2</td>\n",
              "    </tr>\n",
              "    <tr>\n",
              "      <th>1</th>\n",
              "      <td>2</td>\n",
              "      <td>0</td>\n",
              "    </tr>\n",
              "    <tr>\n",
              "      <th>2</th>\n",
              "      <td>3</td>\n",
              "      <td>9</td>\n",
              "    </tr>\n",
              "    <tr>\n",
              "      <th>3</th>\n",
              "      <td>4</td>\n",
              "      <td>9</td>\n",
              "    </tr>\n",
              "    <tr>\n",
              "      <th>4</th>\n",
              "      <td>5</td>\n",
              "      <td>3</td>\n",
              "    </tr>\n",
              "  </tbody>\n",
              "</table>\n",
              "</div>\n",
              "      <button class=\"colab-df-convert\" onclick=\"convertToInteractive('df-b3898653-0c1b-48fb-98b4-b0c5b00e9a0a')\"\n",
              "              title=\"Convert this dataframe to an interactive table.\"\n",
              "              style=\"display:none;\">\n",
              "        \n",
              "  <svg xmlns=\"http://www.w3.org/2000/svg\" height=\"24px\"viewBox=\"0 0 24 24\"\n",
              "       width=\"24px\">\n",
              "    <path d=\"M0 0h24v24H0V0z\" fill=\"none\"/>\n",
              "    <path d=\"M18.56 5.44l.94 2.06.94-2.06 2.06-.94-2.06-.94-.94-2.06-.94 2.06-2.06.94zm-11 1L8.5 8.5l.94-2.06 2.06-.94-2.06-.94L8.5 2.5l-.94 2.06-2.06.94zm10 10l.94 2.06.94-2.06 2.06-.94-2.06-.94-.94-2.06-.94 2.06-2.06.94z\"/><path d=\"M17.41 7.96l-1.37-1.37c-.4-.4-.92-.59-1.43-.59-.52 0-1.04.2-1.43.59L10.3 9.45l-7.72 7.72c-.78.78-.78 2.05 0 2.83L4 21.41c.39.39.9.59 1.41.59.51 0 1.02-.2 1.41-.59l7.78-7.78 2.81-2.81c.8-.78.8-2.07 0-2.86zM5.41 20L4 18.59l7.72-7.72 1.47 1.35L5.41 20z\"/>\n",
              "  </svg>\n",
              "      </button>\n",
              "      \n",
              "  <style>\n",
              "    .colab-df-container {\n",
              "      display:flex;\n",
              "      flex-wrap:wrap;\n",
              "      gap: 12px;\n",
              "    }\n",
              "\n",
              "    .colab-df-convert {\n",
              "      background-color: #E8F0FE;\n",
              "      border: none;\n",
              "      border-radius: 50%;\n",
              "      cursor: pointer;\n",
              "      display: none;\n",
              "      fill: #1967D2;\n",
              "      height: 32px;\n",
              "      padding: 0 0 0 0;\n",
              "      width: 32px;\n",
              "    }\n",
              "\n",
              "    .colab-df-convert:hover {\n",
              "      background-color: #E2EBFA;\n",
              "      box-shadow: 0px 1px 2px rgba(60, 64, 67, 0.3), 0px 1px 3px 1px rgba(60, 64, 67, 0.15);\n",
              "      fill: #174EA6;\n",
              "    }\n",
              "\n",
              "    [theme=dark] .colab-df-convert {\n",
              "      background-color: #3B4455;\n",
              "      fill: #D2E3FC;\n",
              "    }\n",
              "\n",
              "    [theme=dark] .colab-df-convert:hover {\n",
              "      background-color: #434B5C;\n",
              "      box-shadow: 0px 1px 3px 1px rgba(0, 0, 0, 0.15);\n",
              "      filter: drop-shadow(0px 1px 2px rgba(0, 0, 0, 0.3));\n",
              "      fill: #FFFFFF;\n",
              "    }\n",
              "  </style>\n",
              "\n",
              "      <script>\n",
              "        const buttonEl =\n",
              "          document.querySelector('#df-b3898653-0c1b-48fb-98b4-b0c5b00e9a0a button.colab-df-convert');\n",
              "        buttonEl.style.display =\n",
              "          google.colab.kernel.accessAllowed ? 'block' : 'none';\n",
              "\n",
              "        async function convertToInteractive(key) {\n",
              "          const element = document.querySelector('#df-b3898653-0c1b-48fb-98b4-b0c5b00e9a0a');\n",
              "          const dataTable =\n",
              "            await google.colab.kernel.invokeFunction('convertToInteractive',\n",
              "                                                     [key], {});\n",
              "          if (!dataTable) return;\n",
              "\n",
              "          const docLinkHtml = 'Like what you see? Visit the ' +\n",
              "            '<a target=\"_blank\" href=https://colab.research.google.com/notebooks/data_table.ipynb>data table notebook</a>'\n",
              "            + ' to learn more about interactive tables.';\n",
              "          element.innerHTML = '';\n",
              "          dataTable['output_type'] = 'display_data';\n",
              "          await google.colab.output.renderOutput(dataTable, element);\n",
              "          const docLink = document.createElement('div');\n",
              "          docLink.innerHTML = docLinkHtml;\n",
              "          element.appendChild(docLink);\n",
              "        }\n",
              "      </script>\n",
              "    </div>\n",
              "  </div>\n",
              "  "
            ]
          },
          "metadata": {},
          "execution_count": 39
        }
      ]
    },
    {
      "cell_type": "markdown",
      "source": [
        "####**Part 3. Visualization**"
      ],
      "metadata": {
        "id": "TuofdXq_uy7S"
      }
    },
    {
      "cell_type": "code",
      "source": [
        "#Input a number\n",
        "in_put=int(input(\"Which number from 0 to 28000 do you like ? \"))\n",
        "image_index = in_put\n",
        "\n",
        "#Show the image of the input index in test data\n",
        "plt.imshow(test[image_index].reshape(28, 28),cmap='Greys')\n",
        "predict = test[image_index].reshape(28,28)\n",
        "pred = model.predict(test[image_index].reshape(1, 28, 28, 1))\n",
        "print(\"The predict is\",pred.argmax())"
      ],
      "metadata": {
        "execution": {
          "iopub.status.busy": "2022-05-08T20:43:27.585784Z",
          "iopub.status.idle": "2022-05-08T20:43:27.586299Z",
          "shell.execute_reply.started": "2022-05-08T20:43:27.586013Z",
          "shell.execute_reply": "2022-05-08T20:43:27.586040Z"
        },
        "trusted": true,
        "id": "rUIilj4tuy7S",
        "colab": {
          "base_uri": "https://localhost:8080/",
          "height": 300
        },
        "outputId": "bc9fb5f6-97bb-475d-b079-94134201d6a9"
      },
      "execution_count": null,
      "outputs": [
        {
          "output_type": "stream",
          "name": "stdout",
          "text": [
            "Which number from 0 to 28000 do you like ? 12\n",
            "The predict is 4\n"
          ]
        },
        {
          "output_type": "display_data",
          "data": {
            "text/plain": [
              "<Figure size 432x288 with 1 Axes>"
            ],
            "image/png": "[encoded data removed]"
          },
          "metadata": {
            "needs_background": "light"
          }
        }
      ]
    },
    {
      "cell_type": "code",
      "source": [
        "from google.colab import files\n",
        "submission.to_csv(\"737_v1.csv\",index=False)\n",
        "files.download('737_v1.csv')"
      ],
      "metadata": {
        "execution": {
          "iopub.status.busy": "2022-05-08T20:43:27.587703Z",
          "iopub.status.idle": "2022-05-08T20:43:27.588206Z",
          "shell.execute_reply.started": "2022-05-08T20:43:27.587916Z",
          "shell.execute_reply": "2022-05-08T20:43:27.587946Z"
        },
        "trusted": true,
        "id": "y56SkxnRuy7S",
        "colab": {
          "base_uri": "https://localhost:8080/",
          "height": 17
        },
        "outputId": "e5e5bb57-3361-434a-e772-a18fdb77e87e"
      },
      "execution_count": null,
      "outputs": [
        {
          "output_type": "display_data",
          "data": {
            "text/plain": [
              "<IPython.core.display.Javascript object>"
            ],
            "application/javascript": [
              "\n",
              "    async function download(id, filename, size) {\n",
              "      if (!google.colab.kernel.accessAllowed) {\n",
              "        return;\n",
              "      }\n",
              "      const div = document.createElement('div');\n",
              "      const label = document.createElement('label');\n",
              "      label.textContent = `Downloading \"${filename}\": `;\n",
              "      div.appendChild(label);\n",
              "      const progress = document.createElement('progress');\n",
              "      progress.max = size;\n",
              "      div.appendChild(progress);\n",
              "      document.body.appendChild(div);\n",
              "\n",
              "      const buffers = [];\n",
              "      let downloaded = 0;\n",
              "\n",
              "      const channel = await google.colab.kernel.comms.open(id);\n",
              "      // Send a message to notify the kernel that we're ready.\n",
              "      channel.send({})\n",
              "\n",
              "      for await (const message of channel.messages) {\n",
              "        // Send a message to notify the kernel that we're ready.\n",
              "        channel.send({})\n",
              "        if (message.buffers) {\n",
              "          for (const buffer of message.buffers) {\n",
              "            buffers.push(buffer);\n",
              "            downloaded += buffer.byteLength;\n",
              "            progress.value = downloaded;\n",
              "          }\n",
              "        }\n",
              "      }\n",
              "      const blob = new Blob(buffers, {type: 'application/binary'});\n",
              "      const a = document.createElement('a');\n",
              "      a.href = window.URL.createObjectURL(blob);\n",
              "      a.download = filename;\n",
              "      div.appendChild(a);\n",
              "      a.click();\n",
              "      div.remove();\n",
              "    }\n",
              "  "
            ]
          },
          "metadata": {}
        },
        {
          "output_type": "display_data",
          "data": {
            "text/plain": [
              "<IPython.core.display.Javascript object>"
            ],
            "application/javascript": [
              "download(\"download_3a459cb5-07d2-4790-93d2-6e779d3c62ab\", \"737_v1.csv\", 212908)"
            ]
          },
          "metadata": {}
        }
      ]
    },
    {
      "cell_type": "code",
      "source": [
        ""
      ],
      "metadata": {
        "id": "TmI4vszeuy7T"
      },
      "execution_count": null,
      "outputs": []
    },
    {
      "cell_type": "code",
      "source": [
        ""
      ],
      "metadata": {
        "id": "knOmjFf4uy7T"
      },
      "execution_count": null,
      "outputs": []
    },
    {
      "cell_type": "code",
      "source": [
        ""
      ],
      "metadata": {
        "id": "g5c9wD8Buy7T"
      },
      "execution_count": null,
      "outputs": []
    },
    {
      "cell_type": "code",
      "source": [
        ""
      ],
      "metadata": {
        "id": "kaW8p0T4uy7T"
      },
      "execution_count": null,
      "outputs": []
    }
  ]
}